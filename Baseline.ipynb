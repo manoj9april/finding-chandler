{
  "nbformat": 4,
  "nbformat_minor": 0,
  "metadata": {
    "colab": {
      "name": "Baseline.ipynb",
      "provenance": [],
      "collapsed_sections": []
    },
    "kernelspec": {
      "name": "python3",
      "display_name": "Python 3"
    }
  },
  "cells": [
    {
      "cell_type": "code",
      "metadata": {
        "id": "QlV9FA0_Tpgb",
        "colab_type": "code",
        "colab": {}
      },
      "source": [
        "from google.colab import drive\n",
        "drive.mount('/content/drive')"
      ],
      "execution_count": 0,
      "outputs": []
    },
    {
      "cell_type": "markdown",
      "metadata": {
        "id": "wr5xn7N6V_S_",
        "colab_type": "text"
      },
      "source": [
        "##Data Input and Preprocessing"
      ]
    },
    {
      "cell_type": "code",
      "metadata": {
        "id": "Tnj-ZIlwS6xS",
        "colab_type": "code",
        "colab": {}
      },
      "source": [
        "##few import statements\n",
        "import sys\n",
        "import os\n",
        "import re\n",
        "import numpy as np\n",
        "\n",
        "import nltk\n",
        "nltk.download('punkt')\n",
        "nltk.download('stopwords')\n",
        "\n",
        "from nltk.corpus import stopwords\n",
        "from nltk.tokenize import word_tokenize\n",
        "\n",
        "from sklearn.utils import shuffle\n",
        "\n",
        "import tensorflow as tf\n",
        "import keras\n",
        "from keras.preprocessing.text import Tokenizer\n",
        "from keras.preprocessing.sequence import pad_sequences\n",
        "\n",
        "from keras.layers import LSTM,Dense,Dropout\n",
        "from keras.models import Model,Sequential\n",
        "from keras.layers import Input,Bidirectional\n",
        "from keras.layers import Embedding\n",
        "\n",
        "from keras import metrics"
      ],
      "execution_count": 0,
      "outputs": []
    },
    {
      "cell_type": "code",
      "metadata": {
        "id": "D0MVNhgpogxk",
        "colab_type": "code",
        "colab": {}
      },
      "source": [
        "## setting the random seed so that everybody gets same results for same setting\n",
        "from numpy.random import seed\n",
        "seed(1)\n",
        "from tensorflow import set_random_seed\n",
        "set_random_seed(2)"
      ],
      "execution_count": 0,
      "outputs": []
    },
    {
      "cell_type": "code",
      "metadata": {
        "id": "9Ovz4Xo4UAgV",
        "colab_type": "code",
        "colab": {}
      },
      "source": [
        "os.chdir(\"/content/drive/My Drive/concetto dsc\")"
      ],
      "execution_count": 0,
      "outputs": []
    },
    {
      "cell_type": "code",
      "metadata": {
        "id": "nRFrvDKfUErL",
        "colab_type": "code",
        "colab": {}
      },
      "source": [
        "os.listdir()"
      ],
      "execution_count": 0,
      "outputs": []
    },
    {
      "cell_type": "code",
      "metadata": {
        "id": "n5qomMEZUG-e",
        "colab_type": "code",
        "colab": {}
      },
      "source": [
        "## reading the data\n",
        "train_data = []\n",
        "with open('sample_data/tweets.txt','r',encoding='latin1') as f:\n",
        "  for line in f.readlines():\n",
        "    train_data.append(line[:-1])"
      ],
      "execution_count": 0,
      "outputs": []
    },
    {
      "cell_type": "code",
      "metadata": {
        "id": "2rDFs-gwVcaH",
        "colab_type": "code",
        "colab": {}
      },
      "source": [
        "train_data[10:12]"
      ],
      "execution_count": 0,
      "outputs": []
    },
    {
      "cell_type": "code",
      "metadata": {
        "id": "opRHW-KXVNRO",
        "colab_type": "code",
        "colab": {}
      },
      "source": [
        "## reading the labels\n",
        "train_labels = []\n",
        "with open('sample_data/labels.txt','r',encoding='latin1') as f:\n",
        "  for line in f.readlines():\n",
        "    train_labels.append(int(line[:-1]=='1'))"
      ],
      "execution_count": 0,
      "outputs": []
    },
    {
      "cell_type": "code",
      "metadata": {
        "id": "W4Kq3iQDVaVJ",
        "colab_type": "code",
        "colab": {}
      },
      "source": [
        "train_labels[10:12]"
      ],
      "execution_count": 0,
      "outputs": []
    },
    {
      "cell_type": "code",
      "metadata": {
        "id": "MdqJ1UgRVkoq",
        "colab_type": "code",
        "colab": {}
      },
      "source": [
        "train_data,train_labels = shuffle(train_data,train_labels)"
      ],
      "execution_count": 0,
      "outputs": []
    },
    {
      "cell_type": "code",
      "metadata": {
        "id": "2bXG91sdWQ2F",
        "colab_type": "code",
        "colab": {}
      },
      "source": [
        "## setting up some hypaer parameters\n",
        "maxwords = 2000\n",
        "\n",
        "max_sentence_length = 256\n",
        "embeddingdim = 100\n",
        "hiddensize = 64"
      ],
      "execution_count": 0,
      "outputs": []
    },
    {
      "cell_type": "code",
      "metadata": {
        "id": "-o77ColoWWSA",
        "colab_type": "code",
        "colab": {}
      },
      "source": [
        "## tokenizes each sentence\n",
        "## creates a dictionary of words\n",
        "tokenizer = Tokenizer(num_words=maxwords)\n",
        "tokenizer.fit_on_texts(train_data)"
      ],
      "execution_count": 0,
      "outputs": []
    },
    {
      "cell_type": "code",
      "metadata": {
        "id": "vQClFw5VYmjQ",
        "colab_type": "code",
        "colab": {}
      },
      "source": [
        "train_tokens = tokenizer.texts_to_sequences(train_data) ## replaces each word with its index\n",
        "train_indices = pad_sequences(train_tokens,max_sentence_length,padding='post') ## zero padding for equal length sentences"
      ],
      "execution_count": 0,
      "outputs": []
    },
    {
      "cell_type": "code",
      "metadata": {
        "id": "lOf20oY3aKyG",
        "colab_type": "code",
        "colab": {}
      },
      "source": [
        "type(train_indices)"
      ],
      "execution_count": 0,
      "outputs": []
    },
    {
      "cell_type": "markdown",
      "metadata": {
        "id": "BIPSUCHAZB6p",
        "colab_type": "text"
      },
      "source": [
        "##Model and Training"
      ]
    },
    {
      "cell_type": "code",
      "metadata": {
        "id": "qlmdDvwDYy4k",
        "colab_type": "code",
        "colab": {}
      },
      "source": [
        "def model(max_sent_len,max_num_words,embedding_dim,n_hidden):\n",
        "  indices = Input(shape=(max_sent_len,))  \n",
        "  vectors = Embedding(input_dim=max_num_words,output_dim=embedding_dim,trainable=True,input_length=max_sent_len)(indices)\n",
        "  lstm_out = LSTM(n_hidden,dropout = 0.5,return_sequences=False)(vectors)\n",
        "  probs = Dense(1,activation='sigmoid',)(lstm_out)\n",
        "  \n",
        "  lstm_model = Model(inputs=indices,output=probs)\n",
        "  \n",
        "  return lstm_model"
      ],
      "execution_count": 0,
      "outputs": []
    },
    {
      "cell_type": "code",
      "metadata": {
        "id": "L1q0z-JZZG5B",
        "colab_type": "code",
        "colab": {}
      },
      "source": [
        "lstm_model = model(max_sentence_length,maxwords,embeddingdim,hiddensize)"
      ],
      "execution_count": 0,
      "outputs": []
    },
    {
      "cell_type": "markdown",
      "metadata": {
        "id": "5OnqL_n7ZhvK",
        "colab_type": "text"
      },
      "source": [
        "###Training"
      ]
    },
    {
      "cell_type": "code",
      "metadata": {
        "id": "m-5CKityZJwk",
        "colab_type": "code",
        "colab": {}
      },
      "source": [
        "## setting up hyperparameter for training  \n",
        "lr_rate = 0.0001\n",
        "batchsize = 16\n",
        "numepochs = 5"
      ],
      "execution_count": 0,
      "outputs": []
    },
    {
      "cell_type": "code",
      "metadata": {
        "id": "n8V-mQn4ZmmX",
        "colab_type": "code",
        "colab": {}
      },
      "source": [
        "lstm_model.compile(optimizer='adam',loss='binary_crossentropy',metrics=['accuracy'])"
      ],
      "execution_count": 0,
      "outputs": []
    },
    {
      "cell_type": "code",
      "metadata": {
        "id": "g5Hqtp_zZuIW",
        "colab_type": "code",
        "colab": {}
      },
      "source": [
        "lstm_model.fit(train_indices,train_labels,validation_split=0.2,batch_size=batchsize,epochs=numepochs)"
      ],
      "execution_count": 0,
      "outputs": []
    },
    {
      "cell_type": "code",
      "metadata": {
        "id": "mLbqZBxDZ2BA",
        "colab_type": "code",
        "colab": {}
      },
      "source": [
        "lstm_model.fit(train_indices,train_labels,validation_split=0.2,batch_size=batchsize,epochs=numepochs)"
      ],
      "execution_count": 0,
      "outputs": []
    }
  ]
}